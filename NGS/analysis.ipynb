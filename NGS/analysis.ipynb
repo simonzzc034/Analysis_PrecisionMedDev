{
 "cells": [
  {
   "cell_type": "code",
   "execution_count": 25,
   "id": "de714ad5",
   "metadata": {},
   "outputs": [],
   "source": [
    "import numpy as np\n",
    "import pandas as pd\n",
    "import matplotlib.pyplot as plt\n",
    "import seaborn as sns; sns.set()\n",
    "import statsmodels.api as sm\n",
    "import scipy.stats as stats"
   ]
  },
  {
   "cell_type": "code",
   "execution_count": 3,
   "id": "c85a0cf0",
   "metadata": {
    "scrolled": true
   },
   "outputs": [],
   "source": [
    "response = pd.read_csv(\"responses.txt\",header=0,sep=\"\\t\")\n",
    "response_104 = pd.read_csv(\"responses_104.txt\",header=0,sep=\"\\t\")\n",
    "response_quatitative = pd.read_csv(\"samples_DK210_IFNg.txt\", sep=\"\\t\")"
   ]
  },
  {
   "cell_type": "code",
   "execution_count": 4,
   "id": "5a35960f",
   "metadata": {},
   "outputs": [],
   "source": [
    "def calculate_threshold(x):\n",
    "    if x[6] > x[5]:\n",
    "        return x[6]\n",
    "    else:\n",
    "        return 0.75 * x[6] + 0.25 * x[5]"
   ]
  },
  {
   "cell_type": "code",
   "execution_count": 5,
   "id": "8c866b4d",
   "metadata": {},
   "outputs": [],
   "source": [
    "response_quatitative['Threshold'] = response_quatitative.apply(calculate_threshold, axis=1)"
   ]
  },
  {
   "cell_type": "code",
   "execution_count": 6,
   "id": "ddab9dd5",
   "metadata": {},
   "outputs": [],
   "source": [
    "response = pd.merge(response, response_quatitative[['Sample','Threshold']], how='left')\n",
    "response_104 = pd.merge(response_104, response_quatitative[['Sample','Threshold']], how='left')"
   ]
  },
  {
   "cell_type": "code",
   "execution_count": 7,
   "id": "14c18900",
   "metadata": {},
   "outputs": [],
   "source": [
    "genotypes = pd.read_csv(\"samples_gt.txt\",header=None,sep=\"\\t\")\n",
    "genotypes = genotypes.T\n",
    "genotypes_104 = pd.read_csv(\"samples_gt_104.txt\",header=None,sep=\"\\t\")\n",
    "genotypes_104 = genotypes_104.T\n",
    "variants = pd.read_csv('differential_variants.txt', header=None, sep=\"\\t\")\n",
    "variants['ID'] = variants.astype(str).agg('_'.join, axis = 1)\n",
    "variants.ID = 'chr'+variants.ID\n",
    "genotypes.columns = ['Sample'] + list(variants.ID)\n",
    "genotypes_104.columns = ['Sample'] + list(variants.ID)"
   ]
  },
  {
   "cell_type": "code",
   "execution_count": 8,
   "id": "b07457c5",
   "metadata": {},
   "outputs": [],
   "source": [
    "def convert_genotype(x):\n",
    "    x = x.str.split('/', expand=True)\n",
    "    x = x[0].astype(int) + x[1].astype(int)\n",
    "    return x"
   ]
  },
  {
   "cell_type": "code",
   "execution_count": 12,
   "id": "46dc1946",
   "metadata": {},
   "outputs": [
    {
     "data": {
      "text/plain": [
       "Index(['Sample', 'chr1_1020217_G_T', 'chr1_1534218_C_G', 'chr1_1534219_G_C',\n",
       "       'chr1_1715541_A_C', 'chr1_12104380_C_T', 'chr1_46364585_C_T',\n",
       "       'chr1_67340123_G_T', 'chr1_67345297_C_A', 'chr1_67350032_A_G',\n",
       "       ...\n",
       "       'chr19_1049306_C_A', 'chr19_23358866_G_A', 'chr19_39434416_A_G',\n",
       "       'chr19_43479588_T_C', 'chr20_17962343_T_C', 'chr20_46406593_G_C',\n",
       "       'chr22_30375565_T_G', 'chr22_30662798_T_C', 'chr22_36149522_T_C',\n",
       "       'chrX_48578630_T_C'],\n",
       "      dtype='object', length=111)"
      ]
     },
     "execution_count": 12,
     "metadata": {},
     "output_type": "execute_result"
    }
   ],
   "source": []
  },
  {
   "cell_type": "code",
   "execution_count": 13,
   "id": "da30b9f7",
   "metadata": {},
   "outputs": [],
   "source": [
    "genotypes = genotypes.set_index('Sample')\n",
    "genotypes_104 = genotypes_104.set_index('Sample')\n",
    "genotypes = genotypes.apply(convert_genotype)\n",
    "genotypes_104 = genotypes_104.apply(convert_genotype)"
   ]
  },
  {
   "cell_type": "code",
   "execution_count": 14,
   "id": "6f398fa0",
   "metadata": {},
   "outputs": [],
   "source": [
    "genotypes = pd.merge(response,genotypes, left_on='Sample', right_index=True)\n",
    "genotypes_104 = pd.merge(response_104, genotypes_104, left_on='Sample', right_index=True, how='left')"
   ]
  },
  {
   "cell_type": "code",
   "execution_count": 16,
   "id": "2dca8af9",
   "metadata": {},
   "outputs": [
    {
     "data": {
      "text/html": [
       "<div>\n",
       "<style scoped>\n",
       "    .dataframe tbody tr th:only-of-type {\n",
       "        vertical-align: middle;\n",
       "    }\n",
       "\n",
       "    .dataframe tbody tr th {\n",
       "        vertical-align: top;\n",
       "    }\n",
       "\n",
       "    .dataframe thead th {\n",
       "        text-align: right;\n",
       "    }\n",
       "</style>\n",
       "<table border=\"1\" class=\"dataframe\">\n",
       "  <thead>\n",
       "    <tr style=\"text-align: right;\">\n",
       "      <th></th>\n",
       "      <th>Sample</th>\n",
       "      <th>Response</th>\n",
       "      <th>Threshold</th>\n",
       "      <th>chr1_1020217_G_T</th>\n",
       "      <th>chr1_1534218_C_G</th>\n",
       "      <th>chr1_1534219_G_C</th>\n",
       "      <th>chr1_1715541_A_C</th>\n",
       "      <th>chr1_12104380_C_T</th>\n",
       "      <th>chr1_46364585_C_T</th>\n",
       "      <th>chr1_67340123_G_T</th>\n",
       "      <th>...</th>\n",
       "      <th>chr19_1049306_C_A</th>\n",
       "      <th>chr19_23358866_G_A</th>\n",
       "      <th>chr19_39434416_A_G</th>\n",
       "      <th>chr19_43479588_T_C</th>\n",
       "      <th>chr20_17962343_T_C</th>\n",
       "      <th>chr20_46406593_G_C</th>\n",
       "      <th>chr22_30375565_T_G</th>\n",
       "      <th>chr22_30662798_T_C</th>\n",
       "      <th>chr22_36149522_T_C</th>\n",
       "      <th>chrX_48578630_T_C</th>\n",
       "    </tr>\n",
       "  </thead>\n",
       "  <tbody>\n",
       "    <tr>\n",
       "      <th>0</th>\n",
       "      <td>HMN884943</td>\n",
       "      <td>High</td>\n",
       "      <td>16014.338654</td>\n",
       "      <td>0</td>\n",
       "      <td>1</td>\n",
       "      <td>1</td>\n",
       "      <td>2</td>\n",
       "      <td>0</td>\n",
       "      <td>0</td>\n",
       "      <td>0</td>\n",
       "      <td>...</td>\n",
       "      <td>1</td>\n",
       "      <td>0</td>\n",
       "      <td>0</td>\n",
       "      <td>0</td>\n",
       "      <td>0</td>\n",
       "      <td>1</td>\n",
       "      <td>2</td>\n",
       "      <td>0</td>\n",
       "      <td>0</td>\n",
       "      <td>2</td>\n",
       "    </tr>\n",
       "    <tr>\n",
       "      <th>1</th>\n",
       "      <td>HMN884944</td>\n",
       "      <td>Medium</td>\n",
       "      <td>11380.431596</td>\n",
       "      <td>2</td>\n",
       "      <td>0</td>\n",
       "      <td>0</td>\n",
       "      <td>2</td>\n",
       "      <td>0</td>\n",
       "      <td>2</td>\n",
       "      <td>0</td>\n",
       "      <td>...</td>\n",
       "      <td>0</td>\n",
       "      <td>0</td>\n",
       "      <td>1</td>\n",
       "      <td>0</td>\n",
       "      <td>0</td>\n",
       "      <td>1</td>\n",
       "      <td>0</td>\n",
       "      <td>0</td>\n",
       "      <td>2</td>\n",
       "      <td>0</td>\n",
       "    </tr>\n",
       "    <tr>\n",
       "      <th>2</th>\n",
       "      <td>HMN884945</td>\n",
       "      <td>High</td>\n",
       "      <td>53130.695326</td>\n",
       "      <td>0</td>\n",
       "      <td>0</td>\n",
       "      <td>0</td>\n",
       "      <td>2</td>\n",
       "      <td>0</td>\n",
       "      <td>0</td>\n",
       "      <td>0</td>\n",
       "      <td>...</td>\n",
       "      <td>1</td>\n",
       "      <td>0</td>\n",
       "      <td>0</td>\n",
       "      <td>0</td>\n",
       "      <td>1</td>\n",
       "      <td>0</td>\n",
       "      <td>0</td>\n",
       "      <td>0</td>\n",
       "      <td>2</td>\n",
       "      <td>0</td>\n",
       "    </tr>\n",
       "    <tr>\n",
       "      <th>3</th>\n",
       "      <td>HMN885667</td>\n",
       "      <td>High</td>\n",
       "      <td>14543.765920</td>\n",
       "      <td>0</td>\n",
       "      <td>0</td>\n",
       "      <td>0</td>\n",
       "      <td>2</td>\n",
       "      <td>0</td>\n",
       "      <td>0</td>\n",
       "      <td>0</td>\n",
       "      <td>...</td>\n",
       "      <td>0</td>\n",
       "      <td>0</td>\n",
       "      <td>1</td>\n",
       "      <td>0</td>\n",
       "      <td>0</td>\n",
       "      <td>0</td>\n",
       "      <td>0</td>\n",
       "      <td>0</td>\n",
       "      <td>0</td>\n",
       "      <td>0</td>\n",
       "    </tr>\n",
       "    <tr>\n",
       "      <th>4</th>\n",
       "      <td>HMN885668</td>\n",
       "      <td>Medium</td>\n",
       "      <td>9851.341942</td>\n",
       "      <td>1</td>\n",
       "      <td>0</td>\n",
       "      <td>0</td>\n",
       "      <td>2</td>\n",
       "      <td>0</td>\n",
       "      <td>0</td>\n",
       "      <td>0</td>\n",
       "      <td>...</td>\n",
       "      <td>1</td>\n",
       "      <td>0</td>\n",
       "      <td>0</td>\n",
       "      <td>0</td>\n",
       "      <td>0</td>\n",
       "      <td>0</td>\n",
       "      <td>0</td>\n",
       "      <td>0</td>\n",
       "      <td>2</td>\n",
       "      <td>0</td>\n",
       "    </tr>\n",
       "  </tbody>\n",
       "</table>\n",
       "<p>5 rows × 113 columns</p>\n",
       "</div>"
      ],
      "text/plain": [
       "      Sample Response     Threshold  chr1_1020217_G_T  chr1_1534218_C_G  \\\n",
       "0  HMN884943     High  16014.338654                 0                 1   \n",
       "1  HMN884944   Medium  11380.431596                 2                 0   \n",
       "2  HMN884945     High  53130.695326                 0                 0   \n",
       "3  HMN885667     High  14543.765920                 0                 0   \n",
       "4  HMN885668   Medium   9851.341942                 1                 0   \n",
       "\n",
       "   chr1_1534219_G_C  chr1_1715541_A_C  chr1_12104380_C_T  chr1_46364585_C_T  \\\n",
       "0                 1                 2                  0                  0   \n",
       "1                 0                 2                  0                  2   \n",
       "2                 0                 2                  0                  0   \n",
       "3                 0                 2                  0                  0   \n",
       "4                 0                 2                  0                  0   \n",
       "\n",
       "   chr1_67340123_G_T  ...  chr19_1049306_C_A  chr19_23358866_G_A  \\\n",
       "0                  0  ...                  1                   0   \n",
       "1                  0  ...                  0                   0   \n",
       "2                  0  ...                  1                   0   \n",
       "3                  0  ...                  0                   0   \n",
       "4                  0  ...                  1                   0   \n",
       "\n",
       "   chr19_39434416_A_G  chr19_43479588_T_C  chr20_17962343_T_C  \\\n",
       "0                   0                   0                   0   \n",
       "1                   1                   0                   0   \n",
       "2                   0                   0                   1   \n",
       "3                   1                   0                   0   \n",
       "4                   0                   0                   0   \n",
       "\n",
       "   chr20_46406593_G_C  chr22_30375565_T_G  chr22_30662798_T_C  \\\n",
       "0                   1                   2                   0   \n",
       "1                   1                   0                   0   \n",
       "2                   0                   0                   0   \n",
       "3                   0                   0                   0   \n",
       "4                   0                   0                   0   \n",
       "\n",
       "   chr22_36149522_T_C  chrX_48578630_T_C  \n",
       "0                   0                  2  \n",
       "1                   2                  0  \n",
       "2                   2                  0  \n",
       "3                   0                  0  \n",
       "4                   2                  0  \n",
       "\n",
       "[5 rows x 113 columns]"
      ]
     },
     "execution_count": 16,
     "metadata": {},
     "output_type": "execute_result"
    }
   ],
   "source": [
    "genotypes_104.head()"
   ]
  },
  {
   "cell_type": "code",
   "execution_count": 18,
   "id": "5ce5df63",
   "metadata": {},
   "outputs": [],
   "source": [
    "from sklearn.decomposition import PCA"
   ]
  },
  {
   "cell_type": "code",
   "execution_count": 49,
   "id": "7b5711b5",
   "metadata": {},
   "outputs": [],
   "source": [
    "pca = PCA(n_components=10)\n",
    "pca = pca.fit(genotypes.iloc[:,3:])\n",
    "genotypes_pca = pca.transform(genotypes.iloc[:,3:])\n",
    "genotypes_104_pca = pca.transform(genotypes_104.iloc[:,3:])\n",
    "genotypes_pca_all = pca.fit_transform(pd.concat([genotypes.iloc[:,3:], genotypes_104.iloc[:,3:]]))"
   ]
  },
  {
   "cell_type": "code",
   "execution_count": 20,
   "id": "09444042",
   "metadata": {},
   "outputs": [
    {
     "data": {
      "text/plain": [
       "array([0.11340287, 0.04726074, 0.04310916, 0.0377564 , 0.03374879,\n",
       "       0.03005024, 0.02877196, 0.02744822, 0.0261803 , 0.0245418 ])"
      ]
     },
     "execution_count": 20,
     "metadata": {},
     "output_type": "execute_result"
    }
   ],
   "source": [
    "pca.explained_variance_ratio_"
   ]
  },
  {
   "cell_type": "code",
   "execution_count": 34,
   "id": "ac80758d",
   "metadata": {},
   "outputs": [],
   "source": [
    "color = ['b' if r=='Low' else 'g' if r=='Intermediate' else 'r' for r in genotypes['Response']]\n",
    "markers = ['o' if r=='Low' else '<' if r=='Intermediate' else '*' for r in genotypes['Response']]\n",
    "res = {'b': 'Low Responders', 'g': 'Intermediate Responders', 'r': 'High Responders'}\n",
    "\n",
    "color_104 = ['b' if r=='Low' else 'g' if r=='Medium' else 'r' for r in genotypes_104['Response']]\n",
    "markers_104 = ['o' if r=='Low' else '<' if r=='Medium' else '*' for r in genotypes_104['Response']]"
   ]
  },
  {
   "cell_type": "code",
   "execution_count": 35,
   "id": "51ce44c2",
   "metadata": {},
   "outputs": [],
   "source": [
    "color = np.array(color)\n",
    "markers = np.array(markers)\n",
    "\n",
    "color_104 = np.array(color_104)\n",
    "markers_104 = np.array(markers_104)"
   ]
  },
  {
   "cell_type": "code",
   "execution_count": 53,
   "id": "3d7b83fb",
   "metadata": {},
   "outputs": [],
   "source": [
    "color_all = np.concatenate((color, color_104))"
   ]
  },
  {
   "cell_type": "code",
   "execution_count": 43,
   "id": "b21cd3c5",
   "metadata": {},
   "outputs": [
    {
     "data": {
      "text/plain": [
       "(array(['b', 'g', 'r'], dtype='<U1'), array([ 3, 29, 66], dtype=int64))"
      ]
     },
     "execution_count": 43,
     "metadata": {},
     "output_type": "execute_result"
    }
   ],
   "source": [
    "np.unique(color_104, return_counts=True)"
   ]
  },
  {
   "cell_type": "code",
   "execution_count": 47,
   "id": "d691f82b",
   "metadata": {
    "scrolled": false
   },
   "outputs": [
    {
     "data": {
      "text/plain": [
       "Text(0.5, 1.0, 'PCA on 110 SNP/INDELs')"
      ]
     },
     "execution_count": 47,
     "metadata": {},
     "output_type": "execute_result"
    },
    {
     "data": {
      "image/png": "[encoded data removed]",
      "text/plain": [
       "<Figure size 640x480 with 1 Axes>"
      ]
     },
     "metadata": {},
     "output_type": "display_data"
    }
   ],
   "source": [
    "plt.scatter(genotypes_pca[color=='b',0], genotypes_pca[color=='b',1], c='b', marker='o', label=res['b'], s=20)\n",
    "plt.scatter(genotypes_pca[color=='g',0], genotypes_pca[color=='g',1], c='g', marker='v', label=res['g'], s=20)\n",
    "plt.scatter(genotypes_pca[color=='r',0], genotypes_pca[color=='r',1], c='r', marker='*', label=res['r'], s=20)\n",
    "#plt.scatter(genotypes_pca[color=='b',0], genotypes_pca[color=='b',1], c='b', marker='o', s=genotypes.loc[color=='b','Threshold']/50, alpha=0.5)\n",
    "#plt.scatter(genotypes_pca[color=='g',0], genotypes_pca[color=='g',1], c='g', marker='o', s=genotypes.loc[color=='g','Threshold']/50, alpha=0.5)\n",
    "#plt.scatter(genotypes_pca[color=='r',0], genotypes_pca[color=='r',1], c='r', marker='o', s=genotypes.loc[color=='r','Threshold']/50, alpha=0.5)\n",
    "\n",
    "plt.scatter(genotypes_104_pca[color_104=='b',0], genotypes_104_pca[color_104=='b',1], c='k', marker='o', s=50)\n",
    "plt.scatter(genotypes_104_pca[color_104=='g',0], genotypes_104_pca[color_104=='g',1], c='k', marker='v', s=50)\n",
    "plt.scatter(genotypes_104_pca[color_104=='r',0], genotypes_104_pca[color_104=='r',1], c='k', marker='*', s=50)\n",
    "\n",
    "#plt.legend()\n",
    "plt.xlim(-7.5,7.5)\n",
    "plt.xlabel('PC1')\n",
    "plt.ylabel('PC2')\n",
    "plt.title('PCA on 110 SNP/INDELs')\n",
    "#plt.savefig(\"PCA_110_SNP_INDELs.pdf\")"
   ]
  },
  {
   "cell_type": "code",
   "execution_count": 54,
   "id": "be78d812",
   "metadata": {},
   "outputs": [
    {
     "data": {
      "text/plain": [
       "<matplotlib.collections.PathCollection at 0x1ee666b0a00>"
      ]
     },
     "execution_count": 54,
     "metadata": {},
     "output_type": "execute_result"
    },
    {
     "data": {
      "image/png": "[encoded data removed]",
      "text/plain": [
       "<Figure size 640x480 with 1 Axes>"
      ]
     },
     "metadata": {},
     "output_type": "display_data"
    }
   ],
   "source": [
    "plt.scatter(genotypes_pca_all[color_all=='b',0], genotypes_pca_all[color_all=='b',1], c='b', marker='o', label=res['b'], s=20)\n",
    "plt.scatter(genotypes_pca_all[color_all=='g',0], genotypes_pca_all[color_all=='g',1], c='g', marker='v', label=res['g'], s=20)\n",
    "plt.scatter(genotypes_pca_all[color_all=='r',0], genotypes_pca_all[color_all=='r',1], c='r', marker='*', label=res['r'], s=20)"
   ]
  },
  {
   "cell_type": "code",
   "execution_count": null,
   "id": "2dc302b0",
   "metadata": {},
   "outputs": [],
   "source": []
  }
 ],
 "metadata": {
  "kernelspec": {
   "display_name": "Python 3 (ipykernel)",
   "language": "python",
   "name": "python3"
  },
  "language_info": {
   "codemirror_mode": {
    "name": "ipython",
    "version": 3
   },
   "file_extension": ".py",
   "mimetype": "text/x-python",
   "name": "python",
   "nbconvert_exporter": "python",
   "pygments_lexer": "ipython3",
   "version": "3.10.9"
  }
 },
 "nbformat": 4,
 "nbformat_minor": 5
}
