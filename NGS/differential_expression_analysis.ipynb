{
 "cells": [
  {
   "cell_type": "code",
   "execution_count": 4,
   "id": "34cf42fc",
   "metadata": {},
   "outputs": [],
   "source": [
    "import numpy as np\n",
    "import pandas as pd\n",
    "import matplotlib.pyplot as plt\n",
    "import seaborn as sns; sns.set()\n",
    "from scipy.stats import ttest_ind\n",
    "from statsmodels.stats.multitest import multipletests"
   ]
  },
  {
   "cell_type": "code",
   "execution_count": 5,
   "id": "7fa0c005",
   "metadata": {},
   "outputs": [],
   "source": [
    "data_23 = pd.read_csv(\"raw_counts.23.csv\", index_col=0)"
   ]
  },
  {
   "cell_type": "code",
   "execution_count": 6,
   "id": "ecfdc9f6",
   "metadata": {},
   "outputs": [],
   "source": [
    "data_104 = pd.read_csv(\"raw_counts.104.csv\", index_col=0)"
   ]
  },
  {
   "cell_type": "code",
   "execution_count": 7,
   "id": "f6309deb",
   "metadata": {},
   "outputs": [],
   "source": [
    "responses = pd.read_csv('../responses.127.txt', sep=\"\\t\", index_col=0)"
   ]
  },
  {
   "cell_type": "code",
   "execution_count": 8,
   "id": "dcd5d152",
   "metadata": {},
   "outputs": [],
   "source": [
    "data_104.columns = data_104.columns.str.replace('[ABC]','',regex=True)"
   ]
  },
  {
   "cell_type": "code",
   "execution_count": 9,
   "id": "cf14b3b2",
   "metadata": {},
   "outputs": [],
   "source": [
    "data_104.drop(columns=['Gene.name'], inplace=True)"
   ]
  },
  {
   "cell_type": "code",
   "execution_count": 10,
   "id": "91d2d81c",
   "metadata": {},
   "outputs": [],
   "source": [
    "data = pd.concat([data_104, data_23], axis=1)"
   ]
  },
  {
   "cell_type": "code",
   "execution_count": 11,
   "id": "59546f35",
   "metadata": {},
   "outputs": [],
   "source": [
    "data = data.reindex(sorted(data.columns), axis=1)"
   ]
  },
  {
   "cell_type": "code",
   "execution_count": 23,
   "id": "3ddaa19b",
   "metadata": {},
   "outputs": [],
   "source": [
    "data_norm = data.iloc[:,1:] / data.iloc[:,1:].quantile(q=0.80)*100"
   ]
  },
  {
   "cell_type": "code",
   "execution_count": 24,
   "id": "5b786094",
   "metadata": {},
   "outputs": [],
   "source": [
    "data_norm = data_norm + 1"
   ]
  },
  {
   "cell_type": "code",
   "execution_count": 25,
   "id": "e70faff3",
   "metadata": {},
   "outputs": [],
   "source": [
    "data_norm = np.log2(data_norm)"
   ]
  },
  {
   "cell_type": "code",
   "execution_count": 26,
   "id": "0c154693",
   "metadata": {},
   "outputs": [],
   "source": [
    "data_norm['Gene.name'] = data['Gene.name']"
   ]
  },
  {
   "cell_type": "code",
   "execution_count": 27,
   "id": "5a4447ec",
   "metadata": {},
   "outputs": [],
   "source": [
    "data_norm = data_norm.reindex(sorted(data_norm.columns), axis=1)"
   ]
  },
  {
   "cell_type": "code",
   "execution_count": 29,
   "id": "24862625",
   "metadata": {},
   "outputs": [],
   "source": [
    "def t_test(row):\n",
    "    low_group = row[1:][list(responses.iloc[:,0] == 'Low')].astype('float')\n",
    "    high_group = row[1:][list(responses.iloc[:,0] == 'High')].astype('float')\n",
    "    print(low_group.mean())\n",
    "    print(high_group.mean())\n",
    "    row['fold_change'] = high_group.mean() - low_group.mean()\n",
    "    row['pvalue_ttest'] = ttest_ind(low_group, high_group).pvalue\n",
    "    return row"
   ]
  },
  {
   "cell_type": "code",
   "execution_count": 30,
   "id": "4b65ce39",
   "metadata": {},
   "outputs": [
    {
     "name": "stdout",
     "output_type": "stream",
     "text": [
      "0.3654872787260906\n",
      "0.21570330403649196\n",
      "7.77879916541458\n",
      "7.82901344653834\n",
      "2.983054977107619\n",
      "3.1508298579579312\n",
      "0.47887678544083506\n",
      "0.5614137336935499\n",
      "0.0\n",
      "0.0\n",
      "0.0\n",
      "0.0\n",
      "0.0\n",
      "0.0\n",
      "0.0\n",
      "0.0\n",
      "0.28565243019636666\n",
      "0.5391821042840828\n",
      "0.0\n",
      "0.0\n",
      "0.6838442920828258\n",
      "0.9131119226011002\n",
      "4.500739958028621\n",
      "4.560118932588959\n",
      "4.6261840581327425\n",
      "4.819013652056663\n",
      "1.048606741896037\n",
      "0.6455401150297853\n",
      "3.5443389722320267\n",
      "3.2202678456532654\n",
      "0.2099365867691622\n",
      "0.1173032262091371\n",
      "0.0\n",
      "0.09029401064439573\n",
      "0.6259038319659765\n",
      "0.6880325115997645\n",
      "7.930552385681513\n",
      "8.043229390178336\n",
      "0.26908072073422956\n",
      "0.43292200832991784\n",
      "2.5703491173927087\n",
      "2.450221388135682\n",
      "0.0\n",
      "0.0\n",
      "0.1672510276878509\n",
      "0.1095398197034176\n",
      "0.0\n",
      "0.03500448851379327\n",
      "0.03627912147705231\n",
      "0.0\n",
      "4.186115580430853\n",
      "3.8246673587706312\n",
      "0.0\n",
      "0.0339388001154521\n",
      "0.0\n",
      "0.0\n",
      "0.0\n",
      "0.0\n",
      "0.0\n",
      "0.19354848871298364\n",
      "1.212432747082456\n",
      "0.6690944154513266\n",
      "0.2339992611711961\n",
      "0.1446269039938833\n",
      "0.8990802059590548\n",
      "1.1026820788137335\n",
      "0.06829200279080477\n",
      "0.0\n",
      "3.6572734862670457\n",
      "3.438216748842889\n",
      "8.476855281517645\n",
      "7.920622884647413\n",
      "9.634096713182466\n",
      "9.57300548152659\n",
      "0.0\n",
      "0.0\n",
      "4.940948685952069\n",
      "4.806179828535445\n",
      "4.726239712567314\n",
      "4.59056912572776\n",
      "12.638288373966683\n",
      "12.674577303916461\n",
      "4.28181484758757\n",
      "4.292148260697357\n",
      "0.0\n",
      "0.21952240807543671\n",
      "0.0\n",
      "0.0\n",
      "0.0\n",
      "0.06902213044777464\n",
      "0.7216255546798892\n",
      "0.7462625386696521\n",
      "7.895206615486862\n",
      "7.6734891968363055\n",
      "0.0\n",
      "0.19398322949421723\n",
      "0.4072651623105256\n",
      "0.11845521902542096\n",
      "6.407760783710224\n",
      "6.118492826182274\n",
      "3.979908724402358\n",
      "4.053381954409491\n",
      "4.163109647252494\n",
      "4.388791378057979\n",
      "8.981889438056026\n",
      "8.933451789149402\n",
      "5.056679304182643\n",
      "5.230939633334421\n",
      "0.08346908254608033\n",
      "0.1161871348948094\n",
      "0.0\n",
      "0.0\n",
      "0.0\n",
      "0.0\n",
      "0.09944196026952212\n",
      "0.10357690005035132\n",
      "0.2896435326776067\n",
      "0.4608525160085348\n",
      "0.04964870569662529\n",
      "0.055844929615217434\n",
      "0.319960935476322\n",
      "0.18680477802733897\n",
      "1.8370709628424131\n",
      "1.9154321689668414\n",
      "11.519160879194525\n",
      "11.60801361127542\n",
      "8.722551528688259\n",
      "8.837442545505152\n",
      "5.243158753937578\n",
      "5.4075374284474425\n",
      "2.8182686240524553\n",
      "3.454979840199866\n",
      "0.44113235467125494\n",
      "0.5464102496143088\n",
      "3.5640004758439243\n",
      "3.5987703130281803\n",
      "9.75073271151105\n",
      "9.856893399752872\n",
      "0.0\n",
      "0.10953505833802757\n",
      "1.6827274045126737\n",
      "1.848060172734258\n",
      "11.832249688546192\n",
      "11.9117310824126\n",
      "0.0\n",
      "0.0\n",
      "10.770014879030207\n",
      "11.087584816632873\n",
      "8.49634342566705\n",
      "8.7001020034827\n",
      "3.5093466579412045\n",
      "3.542522845956012\n",
      "9.018547447832415\n",
      "9.197410149155209\n",
      "1.193145266483187\n",
      "1.5617213860262318\n",
      "0.039136626823190336\n",
      "0.10160090106102385\n",
      "0.12148859051227902\n",
      "0.1594167365316284\n",
      "0.1472400949694368\n",
      "0.12213716580357632\n",
      "0.5607324346912342\n",
      "0.5087371794834576\n",
      "1.2737103934663725\n",
      "1.2902960309796998\n",
      "3.397640074787605\n",
      "3.4735373998193055\n",
      "12.702940969225354\n",
      "13.084143639528515\n",
      "11.7852619468742\n",
      "12.24282319594704\n",
      "12.18703374448246\n",
      "12.474360393686869\n",
      "8.765841165260554\n",
      "8.975082963220988\n",
      "5.83192550258674\n",
      "6.083049198474492\n",
      "3.1619266671888226\n",
      "3.353390446086878\n",
      "11.08759110157041\n",
      "11.222830582179316\n",
      "4.8864585826988804\n",
      "5.073626383670219\n",
      "7.112622323764024\n",
      "7.430992755676042\n",
      "10.353227789686791\n",
      "10.359097809825306\n",
      "0.0\n",
      "0.04061227162269483\n",
      "8.243775495327828\n",
      "8.470643015964892\n",
      "12.000674947675043\n",
      "12.042109476519235\n",
      "5.457516507178423\n",
      "5.429972042675827\n",
      "8.60936436258109\n",
      "8.75061865390775\n",
      "3.8421985040659963\n",
      "3.894902969182352\n"
     ]
    }
   ],
   "source": [
    "data_norm = data_norm.apply(t_test, axis=1)"
   ]
  },
  {
   "cell_type": "code",
   "execution_count": 19,
   "id": "224e9e20",
   "metadata": {},
   "outputs": [],
   "source": [
    "data_norm.sort_values('pvalue_ttest', inplace=True)"
   ]
  },
  {
   "cell_type": "code",
   "execution_count": 25,
   "id": "31ceeeb9",
   "metadata": {},
   "outputs": [],
   "source": [
    "data_norm = data_norm.rename(columns={'fold_change': 'log2 fold_change'})"
   ]
  },
  {
   "cell_type": "code",
   "execution_count": 43,
   "id": "fbdaec31",
   "metadata": {},
   "outputs": [],
   "source": [
    "data_norm.dropna(subset=['pvalue_ttest'],inplace=True)"
   ]
  },
  {
   "cell_type": "code",
   "execution_count": 44,
   "id": "c1e10c7c",
   "metadata": {},
   "outputs": [],
   "source": [
    "adj = multipletests(data_norm['pvalue_ttest'], method='bonferroni')\n",
    "data_norm['pvalue_BF_adjusted'] = adj[1]"
   ]
  },
  {
   "cell_type": "code",
   "execution_count": 45,
   "id": "991070b0",
   "metadata": {},
   "outputs": [],
   "source": [
    "adj = multipletests(data_norm['pvalue_ttest'], method='fdr_bh')"
   ]
  },
  {
   "cell_type": "code",
   "execution_count": 47,
   "id": "2d71d5c5",
   "metadata": {},
   "outputs": [],
   "source": [
    "data_norm['pvalue_FDR_adjusted'] = adj[1]"
   ]
  },
  {
   "cell_type": "code",
   "execution_count": 48,
   "id": "c7d9a43f",
   "metadata": {},
   "outputs": [
    {
     "data": {
      "text/plain": [
       "Index(['Gene.name', 'log2 fold_change', 'pvalue_ttest', 'pvalue_BF_adjusted',\n",
       "       'pvalue_FDR_adjusted', 'HMN831856', 'HMN831857', 'HMN831858',\n",
       "       'HMN832959', 'HMN832960',\n",
       "       ...\n",
       "       'LS1173998', 'LS2424746', 'LS2424747', 'LS2425173', 'LS2425336',\n",
       "       'LS2425343', 'LS8847606', 'LS8847607', 'LS8847675', 'LS8847676'],\n",
       "      dtype='object', length=132)"
      ]
     },
     "execution_count": 48,
     "metadata": {},
     "output_type": "execute_result"
    }
   ],
   "source": [
    "data_norm.columns"
   ]
  },
  {
   "cell_type": "code",
   "execution_count": 49,
   "id": "a98952a0",
   "metadata": {},
   "outputs": [],
   "source": [
    "#new_index = ['Gene.name', 'log2 fold_change', 'pvalue_ttest', 'pvalue_BF_adjusted', 'pvalue_FDR_adjusted'] + list(data_norm.columns[1:128])\n",
    "#data_norm = data_norm.reindex(new_index, axis=1)"
   ]
  },
  {
   "cell_type": "code",
   "execution_count": 1,
   "id": "e3c560a9",
   "metadata": {},
   "outputs": [
    {
     "ename": "NameError",
     "evalue": "name 'data_norm' is not defined",
     "output_type": "error",
     "traceback": [
      "\u001b[1;31m---------------------------------------------------------------------------\u001b[0m",
      "\u001b[1;31mNameError\u001b[0m                                 Traceback (most recent call last)",
      "Cell \u001b[1;32mIn[1], line 1\u001b[0m\n\u001b[1;32m----> 1\u001b[0m \u001b[43mdata_norm\u001b[49m\u001b[38;5;241m.\u001b[39mto_csv(\u001b[38;5;124m\"\u001b[39m\u001b[38;5;124mdifferential_GE_2.output.txt\u001b[39m\u001b[38;5;124m\"\u001b[39m,sep\u001b[38;5;241m=\u001b[39m\u001b[38;5;124m\"\u001b[39m\u001b[38;5;130;01m\\t\u001b[39;00m\u001b[38;5;124m\"\u001b[39m)\n",
      "\u001b[1;31mNameError\u001b[0m: name 'data_norm' is not defined"
     ]
    }
   ],
   "source": [
    "data_norm.to_csv(\"differential_GE_2.output.txt\",sep=\"\\t\")"
   ]
  },
  {
   "cell_type": "code",
   "execution_count": 76,
   "id": "6349a2c3",
   "metadata": {},
   "outputs": [
    {
     "data": {
      "image/png": "[encoded data removed]",
      "text/plain": [
       "<Figure size 640x480 with 1 Axes>"
      ]
     },
     "metadata": {},
     "output_type": "display_data"
    }
   ],
   "source": [
    "plt.plot(data_norm.loc[data_norm['pvalue_BF_adjusted'] >= 0.1,'log2 fold_change'], -np.log10(data_norm.loc[data_norm['pvalue_BF_adjusted'] >= 0.1,'pvalue_ttest']), 'o', color='k', markersize=1)\n",
    "plt.plot(data_norm.loc[data_norm['pvalue_BF_adjusted'] < 0.1,'log2 fold_change'], -np.log10(data_norm.loc[data_norm['pvalue_BF_adjusted'] < 0.1,'pvalue_ttest']), '+', color='r', markersize=10, label=\"Genes with Bonferroni pvalue < 0.1\")\n",
    "plt.legend()\n",
    "plt.xlabel(\"Log2 Fold Change\")\n",
    "plt.ylabel(\"-Log(p-value)\")\n",
    "plt.xlim(-3,3)\n",
    "plt.ylim(-0.5,9)\n",
    "plt.axhline(y=-np.log10(1.96e-06), color='r', linestyle='-.',lw=0.5)\n",
    "plt.title(\"Differential Gene Expression High/Low Responders\");"
   ]
  },
  {
   "cell_type": "code",
   "execution_count": null,
   "id": "4e1feead",
   "metadata": {},
   "outputs": [],
   "source": []
  }
 ],
 "metadata": {
  "kernelspec": {
   "display_name": "Python 3 (ipykernel)",
   "language": "python",
   "name": "python3"
  },
  "language_info": {
   "codemirror_mode": {
    "name": "ipython",
    "version": 3
   },
   "file_extension": ".py",
   "mimetype": "text/x-python",
   "name": "python",
   "nbconvert_exporter": "python",
   "pygments_lexer": "ipython3",
   "version": "3.10.9"
  }
 },
 "nbformat": 4,
 "nbformat_minor": 5
}
