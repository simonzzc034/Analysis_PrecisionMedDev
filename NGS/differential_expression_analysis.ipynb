{
 "cells": [
  {
   "cell_type": "code",
   "execution_count": 1,
   "id": "34cf42fc",
   "metadata": {},
   "outputs": [],
   "source": [
    "import numpy as np\n",
    "import pandas as pd\n",
    "import matplotlib.pyplot as plt\n",
    "import seaborn as sns; sns.set()\n",
    "from scipy.stats import ttest_ind\n",
    "from statsmodels.stats.multitest import multipletests"
   ]
  },
  {
   "cell_type": "code",
   "execution_count": 421,
   "id": "7fa0c005",
   "metadata": {},
   "outputs": [],
   "source": [
    "data_23 = pd.read_csv(\"raw_counts.23.csv\", index_col=0)\n",
    "data_23.loc['Batch_id',:] = [23] * 23 + ['Batch']\n",
    "\n",
    "data_104 = pd.read_csv(\"raw_counts.104.csv\", index_col=0)\n",
    "data_104.columns = data_104.columns.str.replace('[ABC]','',regex=True)\n",
    "data_104.loc['Batch_id',:] = [104] * 104 + ['Batch']\n",
    "data_104.drop(columns=['Gene.name'], inplace=True)\n",
    "\n",
    "data_104_new = pd.read_csv(\"additional_104/raw_counts.csv\", index_col=0)\n",
    "data_104_new.loc['Batch_id',:] = ['104_new'] * 104 + ['Batch']\n",
    "data_104_new.drop(columns=['Gene.name'], inplace=True)\n",
    "\n",
    "\n",
    "responses = pd.read_csv('../responses.127.txt', sep=\"\\t\", index_col=0)\n",
    "responses_new = pd.read_csv('../responses_104.txt', sep=\"\\t\", index_col=0)\n",
    "responses = pd.concat([responses, responses_new])\n",
    "responses = responses.reindex(sorted(responses.index))\n",
    "\n",
    "\n",
    "protein_coding_genes = pd.read_csv(\"protein_coding_genes.txt\",header=None)\n",
    "protein_coding_genes.columns = ['Gene.name']\n",
    "protein_coding_genes.loc[19407,] = 'Batch'"
   ]
  },
  {
   "cell_type": "code",
   "execution_count": 422,
   "id": "80b0cb09",
   "metadata": {},
   "outputs": [],
   "source": [
    "data = pd.concat([data_104, data_23, data_104_new], axis = 1)\n",
    "data = data.reindex(sorted(data.columns), axis=1)\n",
    "data = data.merge(protein_coding_genes, how='inner')\n",
    "data = data.T\n",
    "data.columns = data.iloc[0,:]\n",
    "data.drop(data.index[0], inplace=True)\n",
    "data = data.merge(responses, left_index=True, right_index=True)"
   ]
  },
  {
   "cell_type": "code",
   "execution_count": 423,
   "id": "2f894540",
   "metadata": {
    "scrolled": true
   },
   "outputs": [
    {
     "name": "stderr",
     "output_type": "stream",
     "text": [
      "C:\\Users\\ZhanchengZhang\\AppData\\Local\\Temp\\ipykernel_16436\\956475145.py:1: DeprecationWarning: In a future version, `df.iloc[:, i] = newvals` will attempt to set the values inplace instead of always setting a new array. To retain the old behavior, use either `df[df.columns[i]] = newvals` or, if columns are non-unique, `df.isetitem(i, newvals)`\n",
      "  data.iloc[:, :data.shape[1]-2] = data.iloc[:, :data.shape[1]-2].astype(\"int\")\n"
     ]
    }
   ],
   "source": [
    "data.iloc[:, :data.shape[1]-2] = data.iloc[:, :data.shape[1]-2].astype(\"int\")"
   ]
  },
  {
   "cell_type": "code",
   "execution_count": 424,
   "id": "a6b76973",
   "metadata": {
    "scrolled": true
   },
   "outputs": [
    {
     "data": {
      "text/plain": [
       "Index(['OR4F5', 'SAMD11', 'NOC2L', 'KLHL17', 'PLEKHN1', 'PERM1', 'HES4',\n",
       "       'ISG15', 'AGRN', 'RNF223',\n",
       "       ...\n",
       "       'MT-ATP6', 'MT-CO3', 'MT-ND3', 'MT-ND4L', 'MT-ND4', 'MT-ND5', 'MT-ND6',\n",
       "       'MT-CYB', 'Batch', 'Response'],\n",
       "      dtype='object', length=18751)"
      ]
     },
     "execution_count": 424,
     "metadata": {},
     "output_type": "execute_result"
    }
   ],
   "source": [
    "data.columns"
   ]
  },
  {
   "cell_type": "code",
   "execution_count": 427,
   "id": "3ddaa19b",
   "metadata": {},
   "outputs": [],
   "source": [
    "data_norm = data.iloc[:,:data.shape[1]-2].T / data.iloc[:,:data.shape[1]-2].quantile(q=0.75, axis=1)*1000"
   ]
  },
  {
   "cell_type": "code",
   "execution_count": 428,
   "id": "b9d69dc6",
   "metadata": {},
   "outputs": [],
   "source": [
    "data_norm = data_norm.T\n",
    "data_norm = data_norm + 1\n",
    "data_norm = np.log2(data_norm)"
   ]
  },
  {
   "cell_type": "code",
   "execution_count": 429,
   "id": "a97140e0",
   "metadata": {},
   "outputs": [
    {
     "data": {
      "text/plain": [
       "Index(['OR4F5', 'SAMD11', 'NOC2L', 'KLHL17', 'PLEKHN1', 'PERM1', 'HES4',\n",
       "       'ISG15', 'AGRN', 'RNF223',\n",
       "       ...\n",
       "       'MT-CO2', 'MT-ATP8', 'MT-ATP6', 'MT-CO3', 'MT-ND3', 'MT-ND4L', 'MT-ND4',\n",
       "       'MT-ND5', 'MT-ND6', 'MT-CYB'],\n",
       "      dtype='object', length=18749)"
      ]
     },
     "execution_count": 429,
     "metadata": {},
     "output_type": "execute_result"
    }
   ],
   "source": [
    "data_norm.columns"
   ]
  },
  {
   "cell_type": "code",
   "execution_count": 430,
   "id": "5b786094",
   "metadata": {},
   "outputs": [],
   "source": [
    "data_norm[['Batch','Response']] = data[['Batch','Response']]"
   ]
  },
  {
   "cell_type": "code",
   "execution_count": 431,
   "id": "fb272280",
   "metadata": {},
   "outputs": [
    {
     "data": {
      "text/html": [
       "<div>\n",
       "<style scoped>\n",
       "    .dataframe tbody tr th:only-of-type {\n",
       "        vertical-align: middle;\n",
       "    }\n",
       "\n",
       "    .dataframe tbody tr th {\n",
       "        vertical-align: top;\n",
       "    }\n",
       "\n",
       "    .dataframe thead th {\n",
       "        text-align: right;\n",
       "    }\n",
       "</style>\n",
       "<table border=\"1\" class=\"dataframe\">\n",
       "  <thead>\n",
       "    <tr style=\"text-align: right;\">\n",
       "      <th></th>\n",
       "      <th>OR4F5</th>\n",
       "      <th>SAMD11</th>\n",
       "      <th>NOC2L</th>\n",
       "      <th>KLHL17</th>\n",
       "      <th>PLEKHN1</th>\n",
       "      <th>PERM1</th>\n",
       "      <th>HES4</th>\n",
       "      <th>ISG15</th>\n",
       "      <th>AGRN</th>\n",
       "      <th>RNF223</th>\n",
       "      <th>...</th>\n",
       "      <th>MT-ATP6</th>\n",
       "      <th>MT-CO3</th>\n",
       "      <th>MT-ND3</th>\n",
       "      <th>MT-ND4L</th>\n",
       "      <th>MT-ND4</th>\n",
       "      <th>MT-ND5</th>\n",
       "      <th>MT-ND6</th>\n",
       "      <th>MT-CYB</th>\n",
       "      <th>Batch</th>\n",
       "      <th>Response</th>\n",
       "    </tr>\n",
       "  </thead>\n",
       "  <tbody>\n",
       "    <tr>\n",
       "      <th>HMN1069640</th>\n",
       "      <td>0.0</td>\n",
       "      <td>0.000000</td>\n",
       "      <td>11.607003</td>\n",
       "      <td>9.610080</td>\n",
       "      <td>4.595189</td>\n",
       "      <td>2.827323</td>\n",
       "      <td>1.150243</td>\n",
       "      <td>9.911684</td>\n",
       "      <td>11.246176</td>\n",
       "      <td>1.781999</td>\n",
       "      <td>...</td>\n",
       "      <td>17.814902</td>\n",
       "      <td>16.859475</td>\n",
       "      <td>14.500686</td>\n",
       "      <td>15.149901</td>\n",
       "      <td>17.757676</td>\n",
       "      <td>16.893719</td>\n",
       "      <td>16.055905</td>\n",
       "      <td>16.662596</td>\n",
       "      <td>104_new</td>\n",
       "      <td>High</td>\n",
       "    </tr>\n",
       "    <tr>\n",
       "      <th>HMN1069641</th>\n",
       "      <td>0.0</td>\n",
       "      <td>3.633064</td>\n",
       "      <td>11.258371</td>\n",
       "      <td>9.017115</td>\n",
       "      <td>4.973531</td>\n",
       "      <td>4.494816</td>\n",
       "      <td>1.821651</td>\n",
       "      <td>9.608195</td>\n",
       "      <td>10.495188</td>\n",
       "      <td>1.181056</td>\n",
       "      <td>...</td>\n",
       "      <td>17.314252</td>\n",
       "      <td>16.477267</td>\n",
       "      <td>14.172100</td>\n",
       "      <td>14.423535</td>\n",
       "      <td>17.185527</td>\n",
       "      <td>16.592382</td>\n",
       "      <td>15.708867</td>\n",
       "      <td>16.180978</td>\n",
       "      <td>104_new</td>\n",
       "      <td>Medium</td>\n",
       "    </tr>\n",
       "    <tr>\n",
       "      <th>HMN1069642</th>\n",
       "      <td>0.0</td>\n",
       "      <td>0.000000</td>\n",
       "      <td>11.203534</td>\n",
       "      <td>8.663538</td>\n",
       "      <td>5.250910</td>\n",
       "      <td>4.917121</td>\n",
       "      <td>0.000000</td>\n",
       "      <td>9.225817</td>\n",
       "      <td>10.382308</td>\n",
       "      <td>3.613055</td>\n",
       "      <td>...</td>\n",
       "      <td>16.971433</td>\n",
       "      <td>16.578920</td>\n",
       "      <td>13.913260</td>\n",
       "      <td>14.451854</td>\n",
       "      <td>17.277483</td>\n",
       "      <td>16.670829</td>\n",
       "      <td>15.816421</td>\n",
       "      <td>16.269275</td>\n",
       "      <td>104_new</td>\n",
       "      <td>High</td>\n",
       "    </tr>\n",
       "    <tr>\n",
       "      <th>HMN1075118</th>\n",
       "      <td>0.0</td>\n",
       "      <td>1.286200</td>\n",
       "      <td>11.405030</td>\n",
       "      <td>9.481132</td>\n",
       "      <td>3.802156</td>\n",
       "      <td>1.286200</td>\n",
       "      <td>4.191104</td>\n",
       "      <td>9.484033</td>\n",
       "      <td>11.760747</td>\n",
       "      <td>3.645101</td>\n",
       "      <td>...</td>\n",
       "      <td>17.657191</td>\n",
       "      <td>16.705809</td>\n",
       "      <td>14.390039</td>\n",
       "      <td>15.494018</td>\n",
       "      <td>18.256683</td>\n",
       "      <td>16.876746</td>\n",
       "      <td>15.950875</td>\n",
       "      <td>15.576154</td>\n",
       "      <td>104_new</td>\n",
       "      <td>High</td>\n",
       "    </tr>\n",
       "    <tr>\n",
       "      <th>HMN1075119</th>\n",
       "      <td>0.0</td>\n",
       "      <td>1.787006</td>\n",
       "      <td>11.050596</td>\n",
       "      <td>9.617125</td>\n",
       "      <td>5.038381</td>\n",
       "      <td>3.588494</td>\n",
       "      <td>1.154123</td>\n",
       "      <td>9.175439</td>\n",
       "      <td>11.311431</td>\n",
       "      <td>4.740674</td>\n",
       "      <td>...</td>\n",
       "      <td>17.718573</td>\n",
       "      <td>16.732018</td>\n",
       "      <td>14.212112</td>\n",
       "      <td>15.214866</td>\n",
       "      <td>17.760191</td>\n",
       "      <td>16.779264</td>\n",
       "      <td>15.848362</td>\n",
       "      <td>16.605512</td>\n",
       "      <td>104_new</td>\n",
       "      <td>High</td>\n",
       "    </tr>\n",
       "  </tbody>\n",
       "</table>\n",
       "<p>5 rows × 18751 columns</p>\n",
       "</div>"
      ],
      "text/plain": [
       "            OR4F5    SAMD11      NOC2L    KLHL17   PLEKHN1     PERM1  \\\n",
       "HMN1069640    0.0  0.000000  11.607003  9.610080  4.595189  2.827323   \n",
       "HMN1069641    0.0  3.633064  11.258371  9.017115  4.973531  4.494816   \n",
       "HMN1069642    0.0  0.000000  11.203534  8.663538  5.250910  4.917121   \n",
       "HMN1075118    0.0  1.286200  11.405030  9.481132  3.802156  1.286200   \n",
       "HMN1075119    0.0  1.787006  11.050596  9.617125  5.038381  3.588494   \n",
       "\n",
       "                HES4     ISG15       AGRN    RNF223  ...    MT-ATP6  \\\n",
       "HMN1069640  1.150243  9.911684  11.246176  1.781999  ...  17.814902   \n",
       "HMN1069641  1.821651  9.608195  10.495188  1.181056  ...  17.314252   \n",
       "HMN1069642  0.000000  9.225817  10.382308  3.613055  ...  16.971433   \n",
       "HMN1075118  4.191104  9.484033  11.760747  3.645101  ...  17.657191   \n",
       "HMN1075119  1.154123  9.175439  11.311431  4.740674  ...  17.718573   \n",
       "\n",
       "               MT-CO3     MT-ND3    MT-ND4L     MT-ND4     MT-ND5     MT-ND6  \\\n",
       "HMN1069640  16.859475  14.500686  15.149901  17.757676  16.893719  16.055905   \n",
       "HMN1069641  16.477267  14.172100  14.423535  17.185527  16.592382  15.708867   \n",
       "HMN1069642  16.578920  13.913260  14.451854  17.277483  16.670829  15.816421   \n",
       "HMN1075118  16.705809  14.390039  15.494018  18.256683  16.876746  15.950875   \n",
       "HMN1075119  16.732018  14.212112  15.214866  17.760191  16.779264  15.848362   \n",
       "\n",
       "               MT-CYB    Batch  Response  \n",
       "HMN1069640  16.662596  104_new      High  \n",
       "HMN1069641  16.180978  104_new    Medium  \n",
       "HMN1069642  16.269275  104_new      High  \n",
       "HMN1075118  15.576154  104_new      High  \n",
       "HMN1075119  16.605512  104_new      High  \n",
       "\n",
       "[5 rows x 18751 columns]"
      ]
     },
     "execution_count": 431,
     "metadata": {},
     "output_type": "execute_result"
    }
   ],
   "source": [
    "data_norm.head()"
   ]
  },
  {
   "cell_type": "code",
   "execution_count": 432,
   "id": "94854a84",
   "metadata": {},
   "outputs": [
    {
     "data": {
      "text/plain": [
       "(231, 18751)"
      ]
     },
     "execution_count": 432,
     "metadata": {},
     "output_type": "execute_result"
    }
   ],
   "source": [
    "data_norm.shape"
   ]
  },
  {
   "cell_type": "code",
   "execution_count": 433,
   "id": "a11dfdfd",
   "metadata": {},
   "outputs": [],
   "source": [
    "from sklearn.decomposition import PCA"
   ]
  },
  {
   "cell_type": "code",
   "execution_count": 475,
   "id": "e92e3282",
   "metadata": {},
   "outputs": [],
   "source": [
    "pca = PCA(n_components=10)\n",
    "pca = pca.fit(data_norm.iloc[:,:data_norm.shape[1]-2])\n",
    "geneExpression_pca = pca.transform(data_norm.iloc[:,:data_norm.shape[1]-2])"
   ]
  },
  {
   "cell_type": "code",
   "execution_count": 476,
   "id": "d6df38c1",
   "metadata": {},
   "outputs": [
    {
     "data": {
      "text/plain": [
       "array([0.12291415, 0.09373342, 0.06662677, 0.04514373, 0.04134976,\n",
       "       0.02884447, 0.02498507, 0.02189521, 0.01825732, 0.01573049])"
      ]
     },
     "execution_count": 476,
     "metadata": {},
     "output_type": "execute_result"
    }
   ],
   "source": [
    "pca.explained_variance_ratio_"
   ]
  },
  {
   "cell_type": "code",
   "execution_count": 478,
   "id": "f3f0eac9",
   "metadata": {},
   "outputs": [
    {
     "data": {
      "text/plain": [
       "Index(['SAMD11', 'ISG15', 'B3GALT6', 'PUSL1', 'CPTP', 'ATAD3C', 'TMEM240',\n",
       "       'FNDC10', 'MIB2', 'FAAP20',\n",
       "       ...\n",
       "       'SIK1', 'CSTB', 'PFKL', 'TRPM2', 'ITGB2', 'SLC19A1', 'COL6A2',\n",
       "       'SPATC1L', 'LSS', 'S100B'],\n",
       "      dtype='object', length=3181)"
      ]
     },
     "execution_count": 478,
     "metadata": {},
     "output_type": "execute_result"
    }
   ],
   "source": [
    "data_norm.columns[0:18749][np.abs(pca.components_[1])>0.01]"
   ]
  },
  {
   "cell_type": "code",
   "execution_count": 479,
   "id": "170afc74",
   "metadata": {},
   "outputs": [
    {
     "data": {
      "text/plain": [
       "(231, 18751)"
      ]
     },
     "execution_count": 479,
     "metadata": {},
     "output_type": "execute_result"
    }
   ],
   "source": [
    "data_norm.shape"
   ]
  },
  {
   "cell_type": "code",
   "execution_count": 602,
   "id": "5c1ad229",
   "metadata": {},
   "outputs": [
    {
     "data": {
      "image/png": "[encoded data removed]",
      "text/plain": [
       "<Figure size 640x480 with 1 Axes>"
      ]
     },
     "metadata": {},
     "output_type": "display_data"
    }
   ],
   "source": [
    "plt.scatter(geneExpression_pca[data_norm['Batch']==23.0,0], geneExpression_pca[data_norm['Batch']==23.0,1], c='b', marker='o',label='Batch 23')\n",
    "plt.scatter(geneExpression_pca[data_norm['Batch']==104.0,0], geneExpression_pca[data_norm['Batch']==104.0,1], c='r', marker='*', label='Batch 104')\n",
    "plt.scatter(geneExpression_pca[data_norm['Batch']=='104_new',0], geneExpression_pca[data_norm['Batch']=='104_new',1], c='g', marker='<', label='Batch 104 Additional')\n",
    "plt.xlim(-110,110)\n",
    "plt.ylim(-160,160)\n",
    "plt.xlabel('PC1')\n",
    "plt.ylabel('PC2')\n",
    "plt.legend();\n"
   ]
  },
  {
   "cell_type": "code",
   "execution_count": 500,
   "id": "255ef535",
   "metadata": {},
   "outputs": [],
   "source": [
    "data_norm_2 = data_norm.iloc[:,0:18749].loc[:,np.abs(pca.components_[1])<=0.01]"
   ]
  },
  {
   "cell_type": "code",
   "execution_count": 501,
   "id": "75f558e0",
   "metadata": {},
   "outputs": [
    {
     "data": {
      "text/plain": [
       "(231, 15568)"
      ]
     },
     "execution_count": 501,
     "metadata": {},
     "output_type": "execute_result"
    }
   ],
   "source": [
    "data_norm_2.shape"
   ]
  },
  {
   "cell_type": "code",
   "execution_count": 502,
   "id": "f0fc822a",
   "metadata": {},
   "outputs": [],
   "source": [
    "pca_2 = PCA(n_components=10)\n",
    "pca_2 = pca_2.fit(data_norm_2)\n",
    "geneExpression_pca_2 = pca_2.transform(data_norm_2)"
   ]
  },
  {
   "cell_type": "code",
   "execution_count": 503,
   "id": "b51a6719",
   "metadata": {},
   "outputs": [
    {
     "data": {
      "text/plain": [
       "array([0.1230301 , 0.0555462 , 0.0516492 , 0.04869738, 0.04507252,\n",
       "       0.02970789, 0.02607268, 0.02116439, 0.01904045, 0.01529385])"
      ]
     },
     "execution_count": 503,
     "metadata": {},
     "output_type": "execute_result"
    }
   ],
   "source": [
    "pca_2.explained_variance_ratio_"
   ]
  },
  {
   "cell_type": "code",
   "execution_count": 504,
   "id": "04b5c9b2",
   "metadata": {},
   "outputs": [
    {
     "data": {
      "text/plain": [
       "(-140.0, 140.0)"
      ]
     },
     "execution_count": 504,
     "metadata": {},
     "output_type": "execute_result"
    },
    {
     "data": {
      "image/png": "[encoded data removed]",
      "text/plain": [
       "<Figure size 640x480 with 1 Axes>"
      ]
     },
     "metadata": {},
     "output_type": "display_data"
    }
   ],
   "source": [
    "plt.scatter(geneExpression_pca_2[data_norm['Batch']==23.0,0], geneExpression_pca_2[data_norm['Batch']==23.0,1], c='b', marker='o')\n",
    "plt.scatter(geneExpression_pca_2[data_norm['Batch']==104.0,0], geneExpression_pca_2[data_norm['Batch']==104.0,1], c='r', marker='*')\n",
    "plt.scatter(geneExpression_pca_2[data_norm['Batch']=='104_new',0], geneExpression_pca_2[data_norm['Batch']=='104_new',1], c='g', marker='<')\n",
    "plt.xlim(-110,110)\n",
    "plt.ylim(-140,140)"
   ]
  },
  {
   "cell_type": "code",
   "execution_count": 509,
   "id": "d8518fca",
   "metadata": {},
   "outputs": [
    {
     "data": {
      "text/plain": [
       "<matplotlib.collections.PathCollection at 0x200446ce380>"
      ]
     },
     "execution_count": 509,
     "metadata": {},
     "output_type": "execute_result"
    },
    {
     "data": {
      "image/png": "[encoded data removed]",
      "text/plain": [
       "<Figure size 640x480 with 1 Axes>"
      ]
     },
     "metadata": {},
     "output_type": "display_data"
    }
   ],
   "source": [
    "plt.scatter(geneExpression_pca[data_norm['Response']=='Medium',0], geneExpression_pca[data_norm['Response']=='Medium',1], c='b')\n",
    "plt.scatter(geneExpression_pca[data_norm['Response']=='High',0], geneExpression_pca[data_norm['Response']=='High',1], c='r')\n",
    "plt.scatter(geneExpression_pca[data_norm['Response']=='Low',0], geneExpression_pca[data_norm['Response']=='Low',1], c='g')"
   ]
  },
  {
   "cell_type": "code",
   "execution_count": 524,
   "id": "24862625",
   "metadata": {},
   "outputs": [],
   "source": [
    "def t_test(row):\n",
    "    low_group = row[(responses.iloc[:,0] == 'Low') & (data_norm['Batch']==104.0) ].astype('float')\n",
    "    high_group = row[(responses.iloc[:,0] == 'High') & (data_norm['Batch']==104.0)].astype('float')\n",
    "    row['mean_low'] = low_group.mean()\n",
    "    row['mean_high'] = high_group.mean()\n",
    "    row['log2_fold_change'] = high_group.mean() - low_group.mean()\n",
    "    row['pvalue_ttest'] = ttest_ind(low_group, high_group).pvalue\n",
    "    return row"
   ]
  },
  {
   "cell_type": "code",
   "execution_count": 536,
   "id": "ee325e60",
   "metadata": {},
   "outputs": [],
   "source": [
    "data_norm_T = data_norm.T"
   ]
  },
  {
   "cell_type": "code",
   "execution_count": 537,
   "id": "eea23f55",
   "metadata": {},
   "outputs": [],
   "source": [
    "data_norm_T.drop(data_norm_T.tail(2).index, inplace=True)"
   ]
  },
  {
   "cell_type": "code",
   "execution_count": 538,
   "id": "4ccda014",
   "metadata": {},
   "outputs": [
    {
     "data": {
      "text/plain": [
       "(18749, 231)"
      ]
     },
     "execution_count": 538,
     "metadata": {},
     "output_type": "execute_result"
    }
   ],
   "source": [
    "data_norm_T.shape"
   ]
  },
  {
   "cell_type": "code",
   "execution_count": 539,
   "id": "4b65ce39",
   "metadata": {},
   "outputs": [],
   "source": [
    "data_norm_T = data_norm_T.apply(t_test, axis=1)"
   ]
  },
  {
   "cell_type": "code",
   "execution_count": 540,
   "id": "43da8c57",
   "metadata": {},
   "outputs": [
    {
     "data": {
      "text/plain": [
       "Index(['HMN1069640', 'HMN1069641', 'HMN1069642', 'HMN1075118', 'HMN1075119',\n",
       "       'HMN1077914', 'HMN1077915', 'HMN1077916', 'HMN1080358', 'HMN1080359',\n",
       "       ...\n",
       "       'LS8847607', 'LS8847675', 'LS8847676', 'LS8848048', 'LS8848348',\n",
       "       'LS8848489', 'mean_low', 'mean_high', 'log2_fold_change',\n",
       "       'pvalue_ttest'],\n",
       "      dtype='object', length=235)"
      ]
     },
     "execution_count": 540,
     "metadata": {},
     "output_type": "execute_result"
    }
   ],
   "source": [
    "data_norm_T.columns"
   ]
  },
  {
   "cell_type": "code",
   "execution_count": 541,
   "id": "224e9e20",
   "metadata": {},
   "outputs": [],
   "source": [
    "data_norm_T.sort_values('pvalue_ttest', inplace=True)"
   ]
  },
  {
   "cell_type": "code",
   "execution_count": 542,
   "id": "fbdaec31",
   "metadata": {},
   "outputs": [],
   "source": [
    "data_norm_T.dropna(subset=['pvalue_ttest'],inplace=True)"
   ]
  },
  {
   "cell_type": "code",
   "execution_count": 543,
   "id": "c1e10c7c",
   "metadata": {},
   "outputs": [],
   "source": [
    "adj = multipletests(data_norm_T['pvalue_ttest'], method='bonferroni')\n",
    "data_norm_T['pvalue_BF_adjusted'] = adj[1]"
   ]
  },
  {
   "cell_type": "code",
   "execution_count": 544,
   "id": "991070b0",
   "metadata": {},
   "outputs": [],
   "source": [
    "adj = multipletests(data_norm_T['pvalue_ttest'], method='fdr_bh')\n",
    "data_norm_T['pvalue_FDR_adjusted'] = adj[1]"
   ]
  },
  {
   "cell_type": "code",
   "execution_count": 545,
   "id": "c7d9a43f",
   "metadata": {},
   "outputs": [
    {
     "data": {
      "text/plain": [
       "(18362, 237)"
      ]
     },
     "execution_count": 545,
     "metadata": {},
     "output_type": "execute_result"
    }
   ],
   "source": [
    "data_norm_T.shape"
   ]
  },
  {
   "cell_type": "code",
   "execution_count": 546,
   "id": "1e96062f",
   "metadata": {},
   "outputs": [
    {
     "data": {
      "text/plain": [
       "Index(['HMN1069640', 'HMN1069641', 'HMN1069642', 'HMN1075118', 'HMN1075119',\n",
       "       'HMN1077914', 'HMN1077915', 'HMN1077916', 'HMN1080358', 'HMN1080359',\n",
       "       ...\n",
       "       'LS8847676', 'LS8848048', 'LS8848348', 'LS8848489', 'mean_low',\n",
       "       'mean_high', 'log2_fold_change', 'pvalue_ttest', 'pvalue_BF_adjusted',\n",
       "       'pvalue_FDR_adjusted'],\n",
       "      dtype='object', length=237)"
      ]
     },
     "execution_count": 546,
     "metadata": {},
     "output_type": "execute_result"
    }
   ],
   "source": [
    "data_norm_T.columns"
   ]
  },
  {
   "cell_type": "code",
   "execution_count": 547,
   "id": "ba04a8a3",
   "metadata": {},
   "outputs": [],
   "source": [
    "new_index = ['log2_fold_change','mean_low','mean_high','pvalue_ttest', 'pvalue_BF_adjusted', 'pvalue_FDR_adjusted'] + list(data_norm_T.columns[0:231])\n",
    "data_norm_T = data_norm_T.reindex(new_index, axis=1)"
   ]
  },
  {
   "cell_type": "code",
   "execution_count": 549,
   "id": "0101843d",
   "metadata": {},
   "outputs": [
    {
     "data": {
      "text/html": [
       "<div>\n",
       "<style scoped>\n",
       "    .dataframe tbody tr th:only-of-type {\n",
       "        vertical-align: middle;\n",
       "    }\n",
       "\n",
       "    .dataframe tbody tr th {\n",
       "        vertical-align: top;\n",
       "    }\n",
       "\n",
       "    .dataframe thead th {\n",
       "        text-align: right;\n",
       "    }\n",
       "</style>\n",
       "<table border=\"1\" class=\"dataframe\">\n",
       "  <thead>\n",
       "    <tr style=\"text-align: right;\">\n",
       "      <th></th>\n",
       "      <th>log2_fold_change</th>\n",
       "      <th>mean_low</th>\n",
       "      <th>mean_high</th>\n",
       "      <th>pvalue_ttest</th>\n",
       "      <th>pvalue_BF_adjusted</th>\n",
       "      <th>pvalue_FDR_adjusted</th>\n",
       "      <th>HMN1069640</th>\n",
       "      <th>HMN1069641</th>\n",
       "      <th>HMN1069642</th>\n",
       "      <th>HMN1075118</th>\n",
       "      <th>...</th>\n",
       "      <th>LS2427167</th>\n",
       "      <th>LS2427438</th>\n",
       "      <th>LS2427530</th>\n",
       "      <th>LS8847606</th>\n",
       "      <th>LS8847607</th>\n",
       "      <th>LS8847675</th>\n",
       "      <th>LS8847676</th>\n",
       "      <th>LS8848048</th>\n",
       "      <th>LS8848348</th>\n",
       "      <th>LS8848489</th>\n",
       "    </tr>\n",
       "  </thead>\n",
       "  <tbody>\n",
       "    <tr>\n",
       "      <th>SNX18</th>\n",
       "      <td>0.726634</td>\n",
       "      <td>9.070649</td>\n",
       "      <td>9.797283</td>\n",
       "      <td>1.906512e-08</td>\n",
       "      <td>0.000350</td>\n",
       "      <td>0.000350</td>\n",
       "      <td>9.876554</td>\n",
       "      <td>9.498717</td>\n",
       "      <td>9.566631</td>\n",
       "      <td>9.640466</td>\n",
       "      <td>...</td>\n",
       "      <td>9.679860</td>\n",
       "      <td>8.642588</td>\n",
       "      <td>9.731201</td>\n",
       "      <td>9.783171</td>\n",
       "      <td>9.114171</td>\n",
       "      <td>9.162340</td>\n",
       "      <td>8.593376</td>\n",
       "      <td>9.661464</td>\n",
       "      <td>9.760173</td>\n",
       "      <td>9.450911</td>\n",
       "    </tr>\n",
       "    <tr>\n",
       "      <th>IL26</th>\n",
       "      <td>2.554166</td>\n",
       "      <td>5.214838</td>\n",
       "      <td>7.769003</td>\n",
       "      <td>6.194754e-08</td>\n",
       "      <td>0.001137</td>\n",
       "      <td>0.000364</td>\n",
       "      <td>6.883537</td>\n",
       "      <td>4.127349</td>\n",
       "      <td>3.856303</td>\n",
       "      <td>6.448421</td>\n",
       "      <td>...</td>\n",
       "      <td>4.910594</td>\n",
       "      <td>4.410766</td>\n",
       "      <td>5.996258</td>\n",
       "      <td>7.813646</td>\n",
       "      <td>7.291826</td>\n",
       "      <td>5.440170</td>\n",
       "      <td>3.794994</td>\n",
       "      <td>4.867218</td>\n",
       "      <td>6.906399</td>\n",
       "      <td>5.904961</td>\n",
       "    </tr>\n",
       "    <tr>\n",
       "      <th>STOM</th>\n",
       "      <td>0.719153</td>\n",
       "      <td>10.196192</td>\n",
       "      <td>10.915345</td>\n",
       "      <td>6.496858e-08</td>\n",
       "      <td>0.001193</td>\n",
       "      <td>0.000364</td>\n",
       "      <td>11.309934</td>\n",
       "      <td>10.662465</td>\n",
       "      <td>10.476337</td>\n",
       "      <td>10.350979</td>\n",
       "      <td>...</td>\n",
       "      <td>10.426762</td>\n",
       "      <td>10.580641</td>\n",
       "      <td>10.661764</td>\n",
       "      <td>10.876354</td>\n",
       "      <td>10.525930</td>\n",
       "      <td>9.736715</td>\n",
       "      <td>9.456160</td>\n",
       "      <td>9.979537</td>\n",
       "      <td>10.802021</td>\n",
       "      <td>10.684612</td>\n",
       "    </tr>\n",
       "    <tr>\n",
       "      <th>ACTN1</th>\n",
       "      <td>-0.819655</td>\n",
       "      <td>12.356259</td>\n",
       "      <td>11.536604</td>\n",
       "      <td>7.923243e-08</td>\n",
       "      <td>0.001455</td>\n",
       "      <td>0.000364</td>\n",
       "      <td>11.698779</td>\n",
       "      <td>13.021336</td>\n",
       "      <td>12.861150</td>\n",
       "      <td>12.421132</td>\n",
       "      <td>...</td>\n",
       "      <td>12.717843</td>\n",
       "      <td>12.428134</td>\n",
       "      <td>12.662584</td>\n",
       "      <td>11.768384</td>\n",
       "      <td>12.480199</td>\n",
       "      <td>12.163777</td>\n",
       "      <td>12.818245</td>\n",
       "      <td>12.800117</td>\n",
       "      <td>11.800114</td>\n",
       "      <td>12.606562</td>\n",
       "    </tr>\n",
       "    <tr>\n",
       "      <th>GLDC</th>\n",
       "      <td>1.786299</td>\n",
       "      <td>4.513736</td>\n",
       "      <td>6.300035</td>\n",
       "      <td>1.159904e-07</td>\n",
       "      <td>0.002130</td>\n",
       "      <td>0.000426</td>\n",
       "      <td>6.236306</td>\n",
       "      <td>4.914126</td>\n",
       "      <td>5.688231</td>\n",
       "      <td>6.159944</td>\n",
       "      <td>...</td>\n",
       "      <td>4.319281</td>\n",
       "      <td>3.859325</td>\n",
       "      <td>5.105278</td>\n",
       "      <td>7.406358</td>\n",
       "      <td>3.771698</td>\n",
       "      <td>6.586700</td>\n",
       "      <td>3.794994</td>\n",
       "      <td>5.842289</td>\n",
       "      <td>7.048222</td>\n",
       "      <td>4.764823</td>\n",
       "    </tr>\n",
       "  </tbody>\n",
       "</table>\n",
       "<p>5 rows × 237 columns</p>\n",
       "</div>"
      ],
      "text/plain": [
       "       log2_fold_change   mean_low  mean_high  pvalue_ttest  \\\n",
       "SNX18          0.726634   9.070649   9.797283  1.906512e-08   \n",
       "IL26           2.554166   5.214838   7.769003  6.194754e-08   \n",
       "STOM           0.719153  10.196192  10.915345  6.496858e-08   \n",
       "ACTN1         -0.819655  12.356259  11.536604  7.923243e-08   \n",
       "GLDC           1.786299   4.513736   6.300035  1.159904e-07   \n",
       "\n",
       "       pvalue_BF_adjusted  pvalue_FDR_adjusted  HMN1069640  HMN1069641  \\\n",
       "SNX18            0.000350             0.000350    9.876554    9.498717   \n",
       "IL26             0.001137             0.000364    6.883537    4.127349   \n",
       "STOM             0.001193             0.000364   11.309934   10.662465   \n",
       "ACTN1            0.001455             0.000364   11.698779   13.021336   \n",
       "GLDC             0.002130             0.000426    6.236306    4.914126   \n",
       "\n",
       "       HMN1069642  HMN1075118  ...  LS2427167  LS2427438  LS2427530  \\\n",
       "SNX18    9.566631    9.640466  ...   9.679860   8.642588   9.731201   \n",
       "IL26     3.856303    6.448421  ...   4.910594   4.410766   5.996258   \n",
       "STOM    10.476337   10.350979  ...  10.426762  10.580641  10.661764   \n",
       "ACTN1   12.861150   12.421132  ...  12.717843  12.428134  12.662584   \n",
       "GLDC     5.688231    6.159944  ...   4.319281   3.859325   5.105278   \n",
       "\n",
       "       LS8847606  LS8847607  LS8847675  LS8847676  LS8848048  LS8848348  \\\n",
       "SNX18   9.783171   9.114171   9.162340   8.593376   9.661464   9.760173   \n",
       "IL26    7.813646   7.291826   5.440170   3.794994   4.867218   6.906399   \n",
       "STOM   10.876354  10.525930   9.736715   9.456160   9.979537  10.802021   \n",
       "ACTN1  11.768384  12.480199  12.163777  12.818245  12.800117  11.800114   \n",
       "GLDC    7.406358   3.771698   6.586700   3.794994   5.842289   7.048222   \n",
       "\n",
       "       LS8848489  \n",
       "SNX18   9.450911  \n",
       "IL26    5.904961  \n",
       "STOM   10.684612  \n",
       "ACTN1  12.606562  \n",
       "GLDC    4.764823  \n",
       "\n",
       "[5 rows x 237 columns]"
      ]
     },
     "execution_count": 549,
     "metadata": {},
     "output_type": "execute_result"
    }
   ],
   "source": [
    "data_norm_T.head()"
   ]
  },
  {
   "cell_type": "code",
   "execution_count": 552,
   "id": "075614e9",
   "metadata": {},
   "outputs": [],
   "source": [
    "data_norm_T.iloc[:,list(range(0,3))+list(range(6,237))] = data_norm_T.iloc[:,list(range(0,3))+list(range(6,237))].round(4)"
   ]
  },
  {
   "cell_type": "code",
   "execution_count": 553,
   "id": "96ac8169",
   "metadata": {},
   "outputs": [
    {
     "data": {
      "text/html": [
       "<div>\n",
       "<style scoped>\n",
       "    .dataframe tbody tr th:only-of-type {\n",
       "        vertical-align: middle;\n",
       "    }\n",
       "\n",
       "    .dataframe tbody tr th {\n",
       "        vertical-align: top;\n",
       "    }\n",
       "\n",
       "    .dataframe thead th {\n",
       "        text-align: right;\n",
       "    }\n",
       "</style>\n",
       "<table border=\"1\" class=\"dataframe\">\n",
       "  <thead>\n",
       "    <tr style=\"text-align: right;\">\n",
       "      <th></th>\n",
       "      <th>log2_fold_change</th>\n",
       "      <th>mean_low</th>\n",
       "      <th>mean_high</th>\n",
       "      <th>pvalue_ttest</th>\n",
       "      <th>pvalue_BF_adjusted</th>\n",
       "      <th>pvalue_FDR_adjusted</th>\n",
       "      <th>HMN1069640</th>\n",
       "      <th>HMN1069641</th>\n",
       "      <th>HMN1069642</th>\n",
       "      <th>HMN1075118</th>\n",
       "      <th>...</th>\n",
       "      <th>LS2427167</th>\n",
       "      <th>LS2427438</th>\n",
       "      <th>LS2427530</th>\n",
       "      <th>LS8847606</th>\n",
       "      <th>LS8847607</th>\n",
       "      <th>LS8847675</th>\n",
       "      <th>LS8847676</th>\n",
       "      <th>LS8848048</th>\n",
       "      <th>LS8848348</th>\n",
       "      <th>LS8848489</th>\n",
       "    </tr>\n",
       "  </thead>\n",
       "  <tbody>\n",
       "    <tr>\n",
       "      <th>SNX18</th>\n",
       "      <td>0.7266</td>\n",
       "      <td>9.0706</td>\n",
       "      <td>9.7973</td>\n",
       "      <td>1.906512e-08</td>\n",
       "      <td>0.000350</td>\n",
       "      <td>0.000350</td>\n",
       "      <td>9.8766</td>\n",
       "      <td>9.4987</td>\n",
       "      <td>9.5666</td>\n",
       "      <td>9.6405</td>\n",
       "      <td>...</td>\n",
       "      <td>9.6799</td>\n",
       "      <td>8.6426</td>\n",
       "      <td>9.7312</td>\n",
       "      <td>9.7832</td>\n",
       "      <td>9.1142</td>\n",
       "      <td>9.1623</td>\n",
       "      <td>8.5934</td>\n",
       "      <td>9.6615</td>\n",
       "      <td>9.7602</td>\n",
       "      <td>9.4509</td>\n",
       "    </tr>\n",
       "    <tr>\n",
       "      <th>IL26</th>\n",
       "      <td>2.5542</td>\n",
       "      <td>5.2148</td>\n",
       "      <td>7.7690</td>\n",
       "      <td>6.194754e-08</td>\n",
       "      <td>0.001137</td>\n",
       "      <td>0.000364</td>\n",
       "      <td>6.8835</td>\n",
       "      <td>4.1273</td>\n",
       "      <td>3.8563</td>\n",
       "      <td>6.4484</td>\n",
       "      <td>...</td>\n",
       "      <td>4.9106</td>\n",
       "      <td>4.4108</td>\n",
       "      <td>5.9963</td>\n",
       "      <td>7.8136</td>\n",
       "      <td>7.2918</td>\n",
       "      <td>5.4402</td>\n",
       "      <td>3.7950</td>\n",
       "      <td>4.8672</td>\n",
       "      <td>6.9064</td>\n",
       "      <td>5.9050</td>\n",
       "    </tr>\n",
       "    <tr>\n",
       "      <th>STOM</th>\n",
       "      <td>0.7192</td>\n",
       "      <td>10.1962</td>\n",
       "      <td>10.9153</td>\n",
       "      <td>6.496858e-08</td>\n",
       "      <td>0.001193</td>\n",
       "      <td>0.000364</td>\n",
       "      <td>11.3099</td>\n",
       "      <td>10.6625</td>\n",
       "      <td>10.4763</td>\n",
       "      <td>10.3510</td>\n",
       "      <td>...</td>\n",
       "      <td>10.4268</td>\n",
       "      <td>10.5806</td>\n",
       "      <td>10.6618</td>\n",
       "      <td>10.8764</td>\n",
       "      <td>10.5259</td>\n",
       "      <td>9.7367</td>\n",
       "      <td>9.4562</td>\n",
       "      <td>9.9795</td>\n",
       "      <td>10.8020</td>\n",
       "      <td>10.6846</td>\n",
       "    </tr>\n",
       "    <tr>\n",
       "      <th>ACTN1</th>\n",
       "      <td>-0.8197</td>\n",
       "      <td>12.3563</td>\n",
       "      <td>11.5366</td>\n",
       "      <td>7.923243e-08</td>\n",
       "      <td>0.001455</td>\n",
       "      <td>0.000364</td>\n",
       "      <td>11.6988</td>\n",
       "      <td>13.0213</td>\n",
       "      <td>12.8612</td>\n",
       "      <td>12.4211</td>\n",
       "      <td>...</td>\n",
       "      <td>12.7178</td>\n",
       "      <td>12.4281</td>\n",
       "      <td>12.6626</td>\n",
       "      <td>11.7684</td>\n",
       "      <td>12.4802</td>\n",
       "      <td>12.1638</td>\n",
       "      <td>12.8182</td>\n",
       "      <td>12.8001</td>\n",
       "      <td>11.8001</td>\n",
       "      <td>12.6066</td>\n",
       "    </tr>\n",
       "    <tr>\n",
       "      <th>GLDC</th>\n",
       "      <td>1.7863</td>\n",
       "      <td>4.5137</td>\n",
       "      <td>6.3000</td>\n",
       "      <td>1.159904e-07</td>\n",
       "      <td>0.002130</td>\n",
       "      <td>0.000426</td>\n",
       "      <td>6.2363</td>\n",
       "      <td>4.9141</td>\n",
       "      <td>5.6882</td>\n",
       "      <td>6.1599</td>\n",
       "      <td>...</td>\n",
       "      <td>4.3193</td>\n",
       "      <td>3.8593</td>\n",
       "      <td>5.1053</td>\n",
       "      <td>7.4064</td>\n",
       "      <td>3.7717</td>\n",
       "      <td>6.5867</td>\n",
       "      <td>3.7950</td>\n",
       "      <td>5.8423</td>\n",
       "      <td>7.0482</td>\n",
       "      <td>4.7648</td>\n",
       "    </tr>\n",
       "  </tbody>\n",
       "</table>\n",
       "<p>5 rows × 237 columns</p>\n",
       "</div>"
      ],
      "text/plain": [
       "       log2_fold_change  mean_low  mean_high  pvalue_ttest  \\\n",
       "SNX18            0.7266    9.0706     9.7973  1.906512e-08   \n",
       "IL26             2.5542    5.2148     7.7690  6.194754e-08   \n",
       "STOM             0.7192   10.1962    10.9153  6.496858e-08   \n",
       "ACTN1           -0.8197   12.3563    11.5366  7.923243e-08   \n",
       "GLDC             1.7863    4.5137     6.3000  1.159904e-07   \n",
       "\n",
       "       pvalue_BF_adjusted  pvalue_FDR_adjusted  HMN1069640  HMN1069641  \\\n",
       "SNX18            0.000350             0.000350      9.8766      9.4987   \n",
       "IL26             0.001137             0.000364      6.8835      4.1273   \n",
       "STOM             0.001193             0.000364     11.3099     10.6625   \n",
       "ACTN1            0.001455             0.000364     11.6988     13.0213   \n",
       "GLDC             0.002130             0.000426      6.2363      4.9141   \n",
       "\n",
       "       HMN1069642  HMN1075118  ...  LS2427167  LS2427438  LS2427530  \\\n",
       "SNX18      9.5666      9.6405  ...     9.6799     8.6426     9.7312   \n",
       "IL26       3.8563      6.4484  ...     4.9106     4.4108     5.9963   \n",
       "STOM      10.4763     10.3510  ...    10.4268    10.5806    10.6618   \n",
       "ACTN1     12.8612     12.4211  ...    12.7178    12.4281    12.6626   \n",
       "GLDC       5.6882      6.1599  ...     4.3193     3.8593     5.1053   \n",
       "\n",
       "       LS8847606  LS8847607  LS8847675  LS8847676  LS8848048  LS8848348  \\\n",
       "SNX18     9.7832     9.1142     9.1623     8.5934     9.6615     9.7602   \n",
       "IL26      7.8136     7.2918     5.4402     3.7950     4.8672     6.9064   \n",
       "STOM     10.8764    10.5259     9.7367     9.4562     9.9795    10.8020   \n",
       "ACTN1    11.7684    12.4802    12.1638    12.8182    12.8001    11.8001   \n",
       "GLDC      7.4064     3.7717     6.5867     3.7950     5.8423     7.0482   \n",
       "\n",
       "       LS8848489  \n",
       "SNX18     9.4509  \n",
       "IL26      5.9050  \n",
       "STOM     10.6846  \n",
       "ACTN1    12.6066  \n",
       "GLDC      4.7648  \n",
       "\n",
       "[5 rows x 237 columns]"
      ]
     },
     "execution_count": 553,
     "metadata": {},
     "output_type": "execute_result"
    }
   ],
   "source": [
    "data_norm_T.head()"
   ]
  },
  {
   "cell_type": "code",
   "execution_count": 554,
   "id": "e3c560a9",
   "metadata": {},
   "outputs": [],
   "source": [
    "data_norm_T.to_csv(\"differential_GE_104.output.txt\",sep=\"\\t\")"
   ]
  },
  {
   "cell_type": "code",
   "execution_count": 556,
   "id": "6349a2c3",
   "metadata": {},
   "outputs": [
    {
     "data": {
      "image/png": "[encoded data removed]",
      "text/plain": [
       "<Figure size 640x480 with 1 Axes>"
      ]
     },
     "metadata": {},
     "output_type": "display_data"
    }
   ],
   "source": [
    "f = plt.figure()\n",
    "plt.plot(data_norm_T.loc[data_norm_T['pvalue_BF_adjusted'] >= 0.05,'log2_fold_change'], -np.log10(data_norm_T.loc[data_norm_T['pvalue_BF_adjusted'] >= 0.05,'pvalue_ttest']), 'o', color='k', markersize=1)\n",
    "plt.plot(data_norm_T.loc[data_norm_T['pvalue_BF_adjusted'] < 0.05,'log2_fold_change'], -np.log10(data_norm_T.loc[data_norm_T['pvalue_BF_adjusted'] < 0.05,'pvalue_ttest']), '+', color='r', markersize=10, label=\"Genes with Bonferroni pvalue < 0.05\")\n",
    "plt.legend()\n",
    "plt.xlabel(\"Log2 Fold Change\")\n",
    "plt.ylabel(\"-log(p-value)\")\n",
    "plt.xlim(-3,3)\n",
    "plt.ylim(-0.5,12)\n",
    "plt.axhline(y=-np.log10(2.64e-06), color='r', linestyle='-.',lw=0.5)\n",
    "plt.title(\"Differential Gene Expression High/Low Responders\")\n",
    "f.savefig(\"DE.Volcano.104.png\", bbox_inches='tight', dpi=600)"
   ]
  },
  {
   "cell_type": "code",
   "execution_count": 592,
   "id": "0b1ceca7",
   "metadata": {},
   "outputs": [],
   "source": []
  },
  {
   "cell_type": "code",
   "execution_count": 600,
   "id": "92809143",
   "metadata": {},
   "outputs": [
    {
     "data": {
      "text/plain": [
       "<matplotlib.legend.Legend at 0x20058112a40>"
      ]
     },
     "execution_count": 600,
     "metadata": {},
     "output_type": "execute_result"
    },
    {
     "data": {
      "image/png": "[encoded data removed]",
      "text/plain": [
       "<Figure size 640x480 with 1 Axes>"
      ]
     },
     "metadata": {},
     "output_type": "display_data"
    }
   ],
   "source": [
    "plt.hist(data_norm_T.iloc[:,7:].loc['CCL24',(responses.iloc[:,0] == 'Low') & (data_norm['Batch']==104.0)].T, alpha=0.5, density=T, color='g')\n",
    "plt.hist(data_norm_T.iloc[:,7:].loc['CCL24',(responses.iloc[:,0] == 'High') & (data_norm['Batch']==104.0)].T, alpha=0.5, density=T, color='r')\n",
    "sns.kdeplot(data_norm_T.iloc[:,7:].loc['CCL24',list(responses.iloc[:,0] == 'Low') & (data_norm['Batch']==104.0)].T.squeeze(), color='g', label='Low Responders')\n",
    "sns.kdeplot(data_norm_T.iloc[:,7:].loc['CCL24',list(responses.iloc[:,0] == 'High')& (data_norm['Batch']==104.0)].T.squeeze(),color='r', label='High Responders', linestyle='-.')\n",
    "sns.kdeplot(data_norm_T.iloc[:,7:].loc['CCL24', data_norm['Batch']=='104_new'].T.squeeze(),color='k', linestyle=':', label=\"Addtional 104 Samples\")\n",
    "plt.xlabel('CCL24 Expression')\n",
    "plt.legend()"
   ]
  },
  {
   "cell_type": "code",
   "execution_count": null,
   "id": "18f14de9",
   "metadata": {},
   "outputs": [],
   "source": []
  }
 ],
 "metadata": {
  "kernelspec": {
   "display_name": "Python 3 (ipykernel)",
   "language": "python",
   "name": "python3"
  },
  "language_info": {
   "codemirror_mode": {
    "name": "ipython",
    "version": 3
   },
   "file_extension": ".py",
   "mimetype": "text/x-python",
   "name": "python",
   "nbconvert_exporter": "python",
   "pygments_lexer": "ipython3",
   "version": "3.10.9"
  }
 },
 "nbformat": 4,
 "nbformat_minor": 5
}
